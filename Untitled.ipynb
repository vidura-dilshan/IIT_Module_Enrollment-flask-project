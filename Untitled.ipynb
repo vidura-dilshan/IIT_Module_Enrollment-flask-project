{
 "cells": [
  {
   "cell_type": "code",
   "execution_count": 1,
   "id": "68852384-14da-4a57-95e9-25ffd3e90701",
   "metadata": {},
   "outputs": [
    {
     "ename": "ModuleNotFoundError",
     "evalue": "No module named 'skimage'",
     "output_type": "error",
     "traceback": [
      "\u001b[1;31m---------------------------------------------------------------------------\u001b[0m",
      "\u001b[1;31mModuleNotFoundError\u001b[0m                       Traceback (most recent call last)",
      "Cell \u001b[1;32mIn[1], line 2\u001b[0m\n\u001b[0;32m      1\u001b[0m \u001b[38;5;28;01mimport\u001b[39;00m \u001b[38;5;21;01mcv2\u001b[39;00m\n\u001b[1;32m----> 2\u001b[0m \u001b[38;5;28;01mfrom\u001b[39;00m \u001b[38;5;21;01mskimage\u001b[39;00m\u001b[38;5;21;01m.\u001b[39;00m\u001b[38;5;21;01mfilters\u001b[39;00m \u001b[38;5;28;01mimport\u001b[39;00m threshold_otsu\n\u001b[0;32m      3\u001b[0m \u001b[38;5;28;01mimport\u001b[39;00m \u001b[38;5;21;01mnumpy\u001b[39;00m \u001b[38;5;28;01mas\u001b[39;00m \u001b[38;5;21;01mnp\u001b[39;00m\n\u001b[0;32m      4\u001b[0m \u001b[38;5;28;01mfrom\u001b[39;00m \u001b[38;5;21;01mtensorflow\u001b[39;00m\u001b[38;5;21;01m.\u001b[39;00m\u001b[38;5;21;01mkeras\u001b[39;00m\u001b[38;5;21;01m.\u001b[39;00m\u001b[38;5;21;01mmodels\u001b[39;00m \u001b[38;5;28;01mimport\u001b[39;00m load_model\n",
      "\u001b[1;31mModuleNotFoundError\u001b[0m: No module named 'skimage'"
     ]
    }
   ],
   "source": [
    "import cv2\n",
    "from skimage.filters import threshold_otsu\n",
    "import numpy as np\n",
    "from tensorflow.keras.models import load_model\n",
    "\n",
    "# Replace with the path to your image\n",
    "image_path = \"handwritten_text.jpg\"\n",
    "\n",
    "# Choose and install a suitable pre-trained model\n",
    "# Options: simpleHTR, keras_ocr (example uses simpleHTR)\n",
    "model_path = \"path/to/handwriting_recognition_model.h5\"\n",
    "\n",
    "# Load the image\n",
    "image = cv2.imread(image_path)\n",
    "\n",
    "# Convert to grayscale\n",
    "gray_image = cv2.cvtColor(image, cv2.COLOR_BGR2GRAY)\n",
    "\n",
    "# Binarization with Otsu's thresholding\n",
    "binary_image = threshold_otsu(gray_image)\n",
    "\n",
    "# Noise reduction with Gaussian blurring\n",
    "denoised_image = cv2.GaussianBlur(binary_image, (5, 5), 0)\n",
    "\n",
    "# Find contours\n",
    "contours, hierarchy = cv2.findContours(denoised_image, cv2.RETR_EXTERNAL, cv2.CHAIN_APPROX_SIMPLE)\n",
    "\n",
    "# Filter small and large contours\n",
    "filtered_contours = []\n",
    "for cnt in contours:\n",
    "    area = cv2.contourArea(cnt)\n",
    "    if 100 < area < 1000:  # Adjust thresholds based on image size\n",
    "        filtered_contours.append(cnt)\n",
    "\n",
    "# Reshape and normalize each character image\n",
    "character_images = []\n",
    "for cnt in filtered_contours:\n",
    "    x, y, w, h = cv2.boundingRect(cnt)\n",
    "    character_image = denoised_image[y:y+h, x:x+w]\n",
    "    character_image = cv2.resize(character_image, (28, 28))  # Adjust size as needed\n",
    "    character_images.append(character_image.reshape(-1, 28*28) / 255.)\n",
    "\n",
    "# Load the pre-trained model\n",
    "model = load_model(model_path)\n",
    "\n",
    "# Predict characters for each image\n",
    "predictions = []\n",
    "for char_image in character_images:\n",
    "    prediction = model.predict(np.expand_dims(char_image, axis=0))\n",
    "    predictions.append(np.argmax(prediction))\n",
    "\n",
    "# Convert predictions to characters based on model's vocabulary\n",
    "# Replace with the appropriate mapping for your chosen model\n",
    "vocabulary = [chr(i + 97) for i in range(26)]  # Example for simpleHTR\n",
    "recognized_text = \"\".join([vocabulary[pred] for pred in predictions])\n",
    "\n",
    "# Add confidence scores if available\n",
    "# ...\n",
    "\n",
    "# Display or save results\n",
    "cv2.imshow(\"Original Image\", image)\n",
    "cv2.imshow(\"Recognized Text\", image)\n",
    "cv2.waitKey(0)\n",
    "cv2.destroyAllWindows()\n",
    "\n",
    "print(\"Recognized text:\", recognized_text)\n"
   ]
  },
  {
   "cell_type": "code",
   "execution_count": null,
   "id": "c20dde66-88fd-4654-b75f-0eefb610c9e9",
   "metadata": {},
   "outputs": [],
   "source": []
  }
 ],
 "metadata": {
  "kernelspec": {
   "display_name": "Python 3 (ipykernel)",
   "language": "python",
   "name": "python3"
  },
  "language_info": {
   "codemirror_mode": {
    "name": "ipython",
    "version": 3
   },
   "file_extension": ".py",
   "mimetype": "text/x-python",
   "name": "python",
   "nbconvert_exporter": "python",
   "pygments_lexer": "ipython3",
   "version": "3.12.2"
  }
 },
 "nbformat": 4,
 "nbformat_minor": 5
}
